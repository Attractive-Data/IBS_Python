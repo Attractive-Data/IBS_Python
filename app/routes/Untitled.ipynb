{
 "cells": [
  {
   "cell_type": "code",
   "execution_count": 9,
   "id": "2e08390c-8914-4029-96f9-5a046e55a6b5",
   "metadata": {
    "jupyter": {
     "source_hidden": true
    }
   },
   "outputs": [],
   "source": [
    "data = pd.read_csv('~/Downloads/IBS_Python/app/files/employees.csv')"
   ]
  },
  {
   "cell_type": "code",
   "execution_count": null,
   "id": "46afe0fa-0330-4545-82a1-be3a00f05287",
   "metadata": {},
   "outputs": [],
   "source": []
  },
  {
   "cell_type": "code",
   "execution_count": 30,
   "id": "8edbb7f9-3628-493a-a231-5b7a4806af9f",
   "metadata": {},
   "outputs": [
    {
     "data": {
      "text/plain": [
       "53"
      ]
     },
     "execution_count": 30,
     "metadata": {},
     "output_type": "execute_result"
    }
   ],
   "source": [
    "data[data['Должность'] == 'Разработчик']['Возраст'].sum()"
   ]
  },
  {
   "cell_type": "code",
   "execution_count": 2,
   "id": "e4bc506a-0ac0-4d4f-94a0-e12b8b24f44d",
   "metadata": {},
   "outputs": [],
   "source": [
    "import pandas as pd"
   ]
  },
  {
   "cell_type": "code",
   "execution_count": 32,
   "id": "36e5e2e0-8118-4909-acf4-c11fbc0e9888",
   "metadata": {},
   "outputs": [],
   "source": [
    "posts = {}"
   ]
  },
  {
   "cell_type": "code",
   "execution_count": null,
   "id": "2e7de9a8-9661-437d-9809-df5ae3cc70d2",
   "metadata": {},
   "outputs": [],
   "source": [
    "#data = data"
   ]
  },
  {
   "cell_type": "code",
   "execution_count": 14,
   "id": "1f69558d-9aab-4d09-a65c-7925d3a04fd0",
   "metadata": {},
   "outputs": [],
   "source": [
    "un = data['Должность'].unique()"
   ]
  },
  {
   "cell_type": "code",
   "execution_count": 35,
   "id": "1ffa5a38-f5ae-44d7-b584-23756aa82b08",
   "metadata": {},
   "outputs": [],
   "source": [
    "for i in range(0, len(un)):\n",
    "   posts[un[i]] = data[data['Должность'] == un[i]]['Возраст'].mean()"
   ]
  },
  {
   "cell_type": "code",
   "execution_count": 36,
   "id": "2181cbe8-a2ee-48e4-b1cd-ceb59d83f5ef",
   "metadata": {},
   "outputs": [
    {
     "data": {
      "text/plain": [
       "{'Разработчик': 26.5, 'Менеджер': 32.5}"
      ]
     },
     "execution_count": 36,
     "metadata": {},
     "output_type": "execute_result"
    }
   ],
   "source": [
    "posts"
   ]
  },
  {
   "cell_type": "code",
   "execution_count": null,
   "id": "8f6a0cd2-77a9-4d24-9c9a-920a4e7e5325",
   "metadata": {},
   "outputs": [],
   "source": []
  }
 ],
 "metadata": {
  "kernelspec": {
   "display_name": "Python 3 (ipykernel)",
   "language": "python",
   "name": "python3"
  },
  "language_info": {
   "codemirror_mode": {
    "name": "ipython",
    "version": 3
   },
   "file_extension": ".py",
   "mimetype": "text/x-python",
   "name": "python",
   "nbconvert_exporter": "python",
   "pygments_lexer": "ipython3",
   "version": "3.11.7"
  }
 },
 "nbformat": 4,
 "nbformat_minor": 5
}
